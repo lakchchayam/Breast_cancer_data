{
 "cells": [
  {
   "cell_type": "code",
   "execution_count": 2,
   "metadata": {},
   "outputs": [
    {
     "name": "stdout",
     "output_type": "stream",
     "text": [
      "0.6357142857142857\n",
      "[2 2]\n"
     ]
    }
   ],
   "source": [
    "import numpy as np\n",
    "from sklearn import preprocessing, model_selection, neighbors, svm\n",
    "import pandas as pd\n",
    "\n",
    "df = pd.read_csv('breast-cancer-wisconsi.txt')\n",
    "df.replace('?',-99999, inplace=True)\n",
    "df.drop(['id'] , 1, inplace=True)\n",
    "\n",
    "\n",
    "X = np.array(df.drop(['class'], 1))\n",
    "\n",
    "y = np.array(df['class'])\n",
    "\n",
    "X_train, X_test, y_train, y_test = model_selection.train_test_split(X,y,test_size = 0.2)\n",
    "\n",
    "clf = svm.SVC()\n",
    "\n",
    "clf.fit(X_train, y_train)\n",
    "\n",
    "accuracy = clf.score(X_test, y_test)\n",
    "\n",
    "\n",
    "print(accuracy)\n",
    "\n",
    "\n",
    "examples_measures = np.array([[4,2,1,1,1,2,3,2,1] ,[4,2,2,2,2,2,3,2,1]])\n",
    "\n",
    "examples_measures = examples_measures.reshape(len(examples_measures),-1)\n",
    "\n",
    "\n",
    "\n",
    "prediction = clf.predict(examples_measures)\n",
    "print(prediction)"
   ]
  },
  {
   "cell_type": "code",
   "execution_count": null,
   "metadata": {},
   "outputs": [
    {
     "name": "stdout",
     "output_type": "stream",
     "text": [
      "5\n",
      "5\n",
      "5\n",
      "1\n"
     ]
    }
   ],
   "source": [
    "a = int(input())\n",
    "for i in range(a) :\n",
    "    b = int(input())\n",
    "    c = input().split()\n",
    "    d = set(c)\n",
    "    if '0' in d :\n",
    "        print (len(d)-1)\n",
    "    else :\n",
    "        print (len(d))"
   ]
  },
  {
   "cell_type": "code",
   "execution_count": null,
   "metadata": {},
   "outputs": [],
   "source": []
  }
 ],
 "metadata": {
  "kernelspec": {
   "display_name": "Python 3",
   "language": "python",
   "name": "python3"
  },
  "language_info": {
   "codemirror_mode": {
    "name": "ipython",
    "version": 3
   },
   "file_extension": ".py",
   "mimetype": "text/x-python",
   "name": "python",
   "nbconvert_exporter": "python",
   "pygments_lexer": "ipython3",
   "version": "3.8.3"
  }
 },
 "nbformat": 4,
 "nbformat_minor": 4
}
