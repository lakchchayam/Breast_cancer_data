{
 "cells": [
  {
   "cell_type": "code",
   "execution_count": null,
   "metadata": {},
   "outputs": [],
   "source": [
    "import matplotlib.pyplot as plt\n",
    "from matplotlib import style\n",
    "import numpy as np\n",
    "style.use('ggplot')\n",
    "\n",
    "\n",
    "class Support_Vector_Machine:\n",
    "    def _init_(self, visualization=True)\n",
    "    self.visualization = visualization\n",
    "    self.colors = {1:'r', -1:'b'}\n",
    "     if self.visualization:\n",
    "            self.fig = plt.figure()\n",
    "            self.ax = self.fig.add_subplot(1,1,1)\n",
    "            \n",
    "    def fit(self, data):\n",
    "        self.data = data\n",
    "        opt_dict = {}\n",
    "        {||w|| : [w,b]}\n",
    "        transforms = [[1,1],\n",
    "                     [-1,1],\n",
    "                     [-1,-1],\n",
    "                     [1,-1]]\n",
    "        \n",
    "        all_data = []\n",
    "        for yi in self.data:\n",
    "            for futureset in self.data[yi]\n",
    "        \n",
    "        \n",
    "    def predict(self, features):\n",
    "        sign(x.w+b)\n",
    "        classification = np.sign(np.dot(np.array(features), self.w)+self.b)\n",
    "        \n",
    "        return classification\n",
    "            \n",
    "data_dict = {-1:np.array([[1,7]\n",
    "                          [2,8]\n",
    "                          [3,8]]), \n",
    "              1:np.array([[5,1]\n",
    "                          [6,-1]\n",
    "                          [7,3],])}"
   ]
  }
 ],
 "metadata": {
  "kernelspec": {
   "display_name": "Python 3",
   "language": "python",
   "name": "python3"
  },
  "language_info": {
   "codemirror_mode": {
    "name": "ipython",
    "version": 3
   },
   "file_extension": ".py",
   "mimetype": "text/x-python",
   "name": "python",
   "nbconvert_exporter": "python",
   "pygments_lexer": "ipython3",
   "version": "3.8.3"
  }
 },
 "nbformat": 4,
 "nbformat_minor": 4
}
